{
 "cells": [
  {
   "cell_type": "markdown",
   "metadata": {},
   "source": [
    "https://jimkang.com/quadtreevis/"
   ]
  },
  {
   "cell_type": "code",
   "execution_count": 55,
   "metadata": {},
   "outputs": [],
   "source": [
    "\"\"\"\n",
    "I think, the best way to depict Quad Tree would be as a map with coordinates (x, y), so I'll try to replicate that.\n",
    "\n",
    "Also I know this implementation sucks without the checks and all that, but I don't want to spend more time on it.\n",
    "\"\"\"\n",
    "\n",
    "from typing import Iterator, Optional\n",
    "\n",
    "\n",
    "MAXIMUM_DATA_POINTS = 4  # the amount of data points one node can hold before splitting\n",
    "\n",
    "\n",
    "class Node:\n",
    "    \"\"\"\n",
    "    aka QuadTree\n",
    "\n",
    "    Every node represents a section of an imaginary \"map\", so it has `x` and `y` coordinates bounds.\n",
    "    Each one can contain either nodes or be a leaf with concrete data points.\n",
    "    \"\"\"\n",
    "    \n",
    "    def __init__(self, x1: int, x2: int, y1: int, y2: int) -> None:\n",
    "        \"\"\"\n",
    "            (x1, y2)                 (x2, y2)\n",
    "                    x---------------x\n",
    "                    |               |\n",
    "                    |               |\n",
    "                    |               |\n",
    "                    |               |\n",
    "                    |               |\n",
    "                    x---------------x\n",
    "            (x1, y1)                 (x2, y1)\n",
    "        \"\"\"\n",
    "        \n",
    "        self._x1, self._x2, self._y1, self._y2 = x1, x2, y1, y2\n",
    "        self._data_points: list[tuple[int, int]] = []  # point in a format (x, y)\n",
    "        \n",
    "        # whether a node is a leaf OR it has any number of children is a contravariant\n",
    "        self._top_left: Optional['Node'] = None\n",
    "        self._bottom_left: Optional['Node'] = None\n",
    "        self._bottom_right: Optional['Node'] = None\n",
    "        self._top_right: Optional['Node'] = None\n",
    "    \n",
    "    @property\n",
    "    def _is_leaf(self) -> bool:\n",
    "        return not (self._top_left or self._bottom_left or self._bottom_right or self._top_right)\n",
    "    \n",
    "    def _accepts(self, x: int, y: int) -> bool:\n",
    "        \"\"\"Check if the coordinate belongs to this node.\"\"\"\n",
    "        \n",
    "        return (\n",
    "            self._x1 <= x <= self._x2\n",
    "            and self._y1 <= y <= self._y2\n",
    "        )\n",
    "    \n",
    "    @property\n",
    "    def _nodes(self) -> Iterator['Node']:\n",
    "        for node in (\n",
    "            self._top_left,\n",
    "            self._bottom_left,\n",
    "            self._bottom_right,\n",
    "            self._top_right,\n",
    "        ):\n",
    "            yield node\n",
    "\n",
    "    def add_coordinate(self, x: int, y: int) -> None:\n",
    "        \"\"\"Add a data point and rebalance tree if necessary.\"\"\"\n",
    "        \n",
    "        if not self._is_leaf:\n",
    "            for node in self._nodes:\n",
    "                if node._accepts(x, y):\n",
    "                    node.add_coordinate(x, y)\n",
    "                    return\n",
    "            assert False  # this should never be called\n",
    "        \n",
    "        if len(self._data_points) < MAXIMUM_DATA_POINTS:\n",
    "            self._data_points.append((x, y))\n",
    "            return\n",
    "        \n",
    "        # we can optimize by splitting it not in 4, but partially; I will just split in 4 for simplicity\n",
    "        # damn, this is so error-prone\n",
    "        self._top_left = Node(self._x1, self._x2 // 2, self._y2 // 2 + 1, self._y2)\n",
    "        self._bottom_left = Node(self._x1, self._x2 // 2, self._y1, self._y2 // 2)\n",
    "        self._bottom_right = Node(self._x2 // 2 + 1, self._x2, self._y1, self._y2 // 2)\n",
    "        self._top_right = Node(self._x2 // 2 + 1, self._x2, self._y2 // 2 + 1, self._y2)\n",
    "\n",
    "        for (ex, ey) in self._data_points + [(x, y)]:\n",
    "            for node in self._nodes:\n",
    "                if node._accepts(ex, ey):\n",
    "                    node.add_coordinate(ex, ey)\n",
    "                    break\n",
    "        self._data_points = []\n",
    "\n",
    "    def remove_coordinate(self) -> None:\n",
    "        \"\"\"Maybe I'll add it later.\"\"\"\n",
    "        raise NotImplemented()\n",
    "    \n",
    "    def coordinate_exists(self, x: int, y: int) -> bool:\n",
    "        \"\"\"Simple check whether our tree has this coordinate added.\"\"\"\n",
    "        \n",
    "        if self._is_leaf:\n",
    "            for data_point in self._data_points:\n",
    "                if (x, y) == data_point:\n",
    "                    return True\n",
    "            return False\n",
    "        \n",
    "        for node in self._nodes:\n",
    "            if node._accepts(x, y):\n",
    "                return node.coordinate_exists(x, y)\n",
    "        return False\n",
    "    \n",
    "    def __repr__(self) -> str:\n",
    "        base = f\"Node({self._x1, self._x2, self._y1, self._y2}\"\n",
    "        if self._is_leaf:\n",
    "            return base + f\", data={str(self._data_points)})\\n\"\n",
    "        base += \")\\n\"\n",
    "        child_nodes = \"\"\n",
    "        for node in self._nodes:\n",
    "            child_nodes += str(node)\n",
    "        return base + child_nodes\n",
    "\n",
    "class QuadTree(Node):\n",
    "    \"\"\"\n",
    "    As quad tree is a composite data structure, it can be represented with a `Node` instance and then branch into smaller\n",
    "    sub-trees via nodes as well.\n",
    "    The purpose of this class is to provide a facade for a tree, because client doesn't have to know about the `Node`, only\n",
    "    about the tree and data it stores. Having said that, maybe it should be named `_Node`, but that's just some code for\n",
    "    learning a concept so who cares really.\n",
    "    Have a nice day.\n",
    "    \"\"\"\n",
    "\n",
    "    def add_coordinate(self, x, y):\n",
    "        if not self._accepts(x, y):\n",
    "            assert False  # only coordinates in a predetermined range are allowed\n",
    "        return super().add_coordinate(x, y)"
   ]
  },
  {
   "cell_type": "code",
   "execution_count": 56,
   "metadata": {},
   "outputs": [],
   "source": [
    "qt = QuadTree(0, 100, 0, 100)\n",
    "qt.add_coordinate(100, 100)\n",
    "qt.add_coordinate(34, 56)\n",
    "qt.add_coordinate(68, 54)\n",
    "# bottom left\n",
    "qt.add_coordinate(1, 1)\n",
    "qt.add_coordinate(4, 5)\n",
    "qt.add_coordinate(10, 10)\n",
    "qt.add_coordinate(20, 20)\n",
    "qt.add_coordinate(30, 30)"
   ]
  },
  {
   "cell_type": "code",
   "execution_count": 60,
   "metadata": {},
   "outputs": [
    {
     "data": {
      "text/plain": [
       "True"
      ]
     },
     "execution_count": 60,
     "metadata": {},
     "output_type": "execute_result"
    }
   ],
   "source": [
    "qt.coordinate_exists(68, 54)"
   ]
  },
  {
   "cell_type": "code",
   "execution_count": 61,
   "metadata": {},
   "outputs": [
    {
     "data": {
      "text/plain": [
       "False"
      ]
     },
     "execution_count": 61,
     "metadata": {},
     "output_type": "execute_result"
    }
   ],
   "source": [
    "qt.coordinate_exists(68, 53)"
   ]
  },
  {
   "cell_type": "code",
   "execution_count": 58,
   "metadata": {},
   "outputs": [
    {
     "data": {
      "text/plain": [
       "Node((0, 100, 0, 100))\n",
       "Node((0, 50, 51, 100), data=[(34, 56)])\n",
       "Node((0, 50, 0, 50))\n",
       "Node((0, 25, 26, 50), data=[])\n",
       "Node((0, 25, 0, 25), data=[(1, 1), (4, 5), (10, 10), (20, 20)])\n",
       "Node((26, 50, 0, 25), data=[])\n",
       "Node((26, 50, 26, 50), data=[(30, 30)])\n",
       "Node((51, 100, 0, 50), data=[])\n",
       "Node((51, 100, 51, 100), data=[(100, 100), (68, 54)])"
      ]
     },
     "execution_count": 58,
     "metadata": {},
     "output_type": "execute_result"
    }
   ],
   "source": [
    "qt"
   ]
  }
 ],
 "metadata": {
  "kernelspec": {
   "display_name": ".venv",
   "language": "python",
   "name": "python3"
  },
  "language_info": {
   "codemirror_mode": {
    "name": "ipython",
    "version": 3
   },
   "file_extension": ".py",
   "mimetype": "text/x-python",
   "name": "python",
   "nbconvert_exporter": "python",
   "pygments_lexer": "ipython3",
   "version": "3.13.1"
  }
 },
 "nbformat": 4,
 "nbformat_minor": 2
}
