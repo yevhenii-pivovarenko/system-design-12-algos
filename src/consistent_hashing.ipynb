{
 "cells": [
  {
   "cell_type": "code",
   "execution_count": 123,
   "metadata": {},
   "outputs": [],
   "source": [
    "import hashlib\n",
    "\n",
    "class Node:\n",
    "    \"\"\"\n",
    "    Nodes imitate physical nodes in a hash ring.\n",
    "    There are NO virtual nodes in this example.\n",
    "    \"\"\"\n",
    "    def __init__(self, identifier: int) -> None:\n",
    "        self.identifier = identifier\n",
    "        self._data: str[int, str] = {}\n",
    "    \n",
    "    @property\n",
    "    def elements(self) -> int:\n",
    "        return len(self._data)\n",
    "\n",
    "    def set(self, key: int, value: str) -> None:\n",
    "        self._data[key] = value\n",
    "\n",
    "    def get(self, key: int) -> str:\n",
    "        return self._data.get(key, \"NaN\")\n",
    "\n",
    "    def remove(self, key: int) -> str:\n",
    "        self._data.pop(key)\n",
    "    \n",
    "    def bulk_pairs(self, upper_bound: int) -> list[tuple[int, str]]:\n",
    "        pairs: list[tuple[int, str]] = []\n",
    "        for key, value in self._data.items():\n",
    "            if key <= upper_bound:\n",
    "                pairs.append((key, value))\n",
    "        return pairs\n",
    "\n",
    "\n",
    "class HashRing:\n",
    "    \"\"\"\n",
    "    Roughly speaking, this is BST to store Nodes and manage the hash.\n",
    "    aka ClusterOfNodes\n",
    "    \"\"\"\n",
    "\n",
    "    def __init__(self, capacity: int) -> None:\n",
    "        self._capacity = capacity\n",
    "        self._nodes: list[Node] = []  # instead of BST let's use list for simplicity\n",
    "\n",
    "    def _hash_function(self, value: str) -> int:\n",
    "        \"\"\"\n",
    "        In a perfect case - ideally uniform hash function.\n",
    "        \n",
    "        In this implementation we trim it by the user-defined capacity (should be infinite in a perfect case) so we have\n",
    "        lower (0) and upper (capacity) bounds for a hash function and can plan nodes accordingly.\n",
    "        \"\"\"\n",
    "        return int(hashlib.md5(value.encode(\"utf8\")).hexdigest(), 16) % self._capacity\n",
    "\n",
    "    def add_node(self, identifier: int) -> None:\n",
    "        \"\"\"\n",
    "        Add a new node and rebalance the tree.\n",
    "        \"\"\"\n",
    "        # in a canonical implementation, we have to hash the node identifier (IP, unique id etc.) with the hash function\n",
    "        # and place it on a ring; here we'll be using just identifier that is bound [0, self._capacity]\n",
    "        assert 0 <= identifier <= self._capacity\n",
    "\n",
    "        node = Node(identifier)\n",
    "        # rebalance the data between nodes\n",
    "        for existing_node in self._nodes:\n",
    "            assert node.identifier != existing_node.identifier  # avoiding duplicates\n",
    "            if node.identifier > existing_node.identifier:\n",
    "                continue\n",
    "            for key, value in existing_node.bulk_pairs(node.identifier):\n",
    "                node.set(key, value)\n",
    "                existing_node.remove(key)\n",
    "            break\n",
    "\n",
    "        # adding node\n",
    "        self._nodes.append(node)\n",
    "        self._nodes.sort(key=lambda x: x.identifier)\n",
    "\n",
    "    def remove_node(self, identifier: int) -> None:\n",
    "        \"\"\"\n",
    "        Remove a node and rebalance the tree.\n",
    "        \"\"\"\n",
    "        for i, killed_node in enumerate(self._nodes):\n",
    "            if killed_node.identifier == identifier:\n",
    "                break\n",
    "        assert i < len(self._nodes) - 1  # cannot delete last node\n",
    "        \n",
    "        # rebalancing\n",
    "        inheriting_node = self._nodes[i + 1]\n",
    "        for key, value in killed_node.bulk_pairs(inheriting_node.identifier):\n",
    "            inheriting_node.set(key, value)\n",
    "        \n",
    "        # killing node\n",
    "        self._nodes.remove(killed_node)\n",
    "        del killed_node\n",
    "\n",
    "    def set(self, key: str, value: str) -> None:\n",
    "        key = self._hash_function(key)\n",
    "        for node in self._nodes:  # as nodes are sorted the first hit is our desired match\n",
    "            if node.identifier >= key:\n",
    "                return node.set(key, value)\n",
    "        assert False\n",
    "    \n",
    "    def get(self, key: str) -> str:\n",
    "        \"\"\"\n",
    "        Perform a search for the node that may contain the value we need.\n",
    "        \"\"\"\n",
    "        key = self._hash_function(key)\n",
    "        for node in self._nodes:\n",
    "            if node.identifier >= key:\n",
    "                return node.get(key)\n",
    "        assert False\n",
    "    \n",
    "    def get_identifier(self, key: str) -> int:\n",
    "        \"\"\"\n",
    "        Return the identifier of the node that the key resides on\n",
    "        \"\"\"\n",
    "        key = self._hash_function(key)\n",
    "        for node in self._nodes:\n",
    "            if node.identifier >= key:\n",
    "                return node.identifier\n",
    "        assert False"
   ]
  },
  {
   "cell_type": "code",
   "execution_count": 130,
   "metadata": {},
   "outputs": [],
   "source": [
    "ring = HashRing(10 ** 8)\n",
    "\n",
    "ring.add_node(10 ** 8)\n",
    "ring.set('a', 'a')\n",
    "ring.set('b', 'b')\n",
    "ring.set('cneiuouwenfouwnefonowuenfounwef', 'cneiuouwenfouwnefonowuenfounwef')\n",
    "ring.set('d', 'd')\n",
    "ring.set('aasdiqwdbqowhdoqwd', 'aasdiqwdbqowhdoqwd')\n",
    "ring.set('127hih12brilbo7912r', '127hih12brilbo7912r')\n",
    "ring.set('iev3h98223nof23', 'iev3h98223nof23')\n",
    "ring.set('r56', 'r56')"
   ]
  },
  {
   "cell_type": "code",
   "execution_count": 131,
   "metadata": {},
   "outputs": [
    {
     "data": {
      "text/plain": [
       "{58726497: 'a',\n",
       " 95795343: 'b',\n",
       " 25912199: 'cneiuouwenfouwnefonowuenfounwef',\n",
       " 61147053: 'd',\n",
       " 1779395: 'aasdiqwdbqowhdoqwd',\n",
       " 81549590: '127hih12brilbo7912r',\n",
       " 48536630: 'iev3h98223nof23',\n",
       " 69617187: 'r56'}"
      ]
     },
     "execution_count": 131,
     "metadata": {},
     "output_type": "execute_result"
    }
   ],
   "source": [
    "ring._nodes[0]._data"
   ]
  },
  {
   "cell_type": "code",
   "execution_count": 133,
   "metadata": {},
   "outputs": [],
   "source": [
    "ring.add_node(50_000_000)"
   ]
  },
  {
   "cell_type": "code",
   "execution_count": 135,
   "metadata": {},
   "outputs": [
    {
     "data": {
      "text/plain": [
       "{25912199: 'cneiuouwenfouwnefonowuenfounwef',\n",
       " 1779395: 'aasdiqwdbqowhdoqwd',\n",
       " 48536630: 'iev3h98223nof23'}"
      ]
     },
     "execution_count": 135,
     "metadata": {},
     "output_type": "execute_result"
    }
   ],
   "source": [
    "ring._nodes[0]._data"
   ]
  },
  {
   "cell_type": "code",
   "execution_count": 134,
   "metadata": {},
   "outputs": [
    {
     "data": {
      "text/plain": [
       "50000000"
      ]
     },
     "execution_count": 134,
     "metadata": {},
     "output_type": "execute_result"
    }
   ],
   "source": [
    "ring.get('iev3h98223nof23')\n",
    "ring.get_identifier('iev3h98223nof23')"
   ]
  },
  {
   "cell_type": "code",
   "execution_count": 136,
   "metadata": {},
   "outputs": [],
   "source": [
    "ring.remove_node(50_000_000)"
   ]
  },
  {
   "cell_type": "code",
   "execution_count": 137,
   "metadata": {},
   "outputs": [
    {
     "data": {
      "text/plain": [
       "{58726497: 'a',\n",
       " 95795343: 'b',\n",
       " 61147053: 'd',\n",
       " 81549590: '127hih12brilbo7912r',\n",
       " 69617187: 'r56',\n",
       " 25912199: 'cneiuouwenfouwnefonowuenfounwef',\n",
       " 1779395: 'aasdiqwdbqowhdoqwd',\n",
       " 48536630: 'iev3h98223nof23'}"
      ]
     },
     "execution_count": 137,
     "metadata": {},
     "output_type": "execute_result"
    }
   ],
   "source": [
    "ring._nodes[0]._data"
   ]
  }
 ],
 "metadata": {
  "kernelspec": {
   "display_name": ".venv",
   "language": "python",
   "name": "python3"
  },
  "language_info": {
   "codemirror_mode": {
    "name": "ipython",
    "version": 3
   },
   "file_extension": ".py",
   "mimetype": "text/x-python",
   "name": "python",
   "nbconvert_exporter": "python",
   "pygments_lexer": "ipython3",
   "version": "3.13.1"
  }
 },
 "nbformat": 4,
 "nbformat_minor": 2
}
