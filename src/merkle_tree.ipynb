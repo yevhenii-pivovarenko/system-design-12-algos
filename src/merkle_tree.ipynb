{
 "cells": [
  {
   "cell_type": "code",
   "execution_count": 90,
   "metadata": {},
   "outputs": [],
   "source": [
    "\"\"\"\n",
    "Example of Merkle Tree. I will not be implementing proving data presense.\n",
    "\"\"\"\n",
    "\n",
    "import hashlib\n",
    "from typing import Optional\n",
    "\n",
    "class Node:\n",
    "    \"\"\"\n",
    "    Merkle tree node.\n",
    "    \"\"\"\n",
    "    def __init__(self, data: str, left: Optional['Node'] = None, right: Optional['Node'] = None) -> None:\n",
    "        # ah damn, constructor overload would've been a charm here\n",
    "        self._data = data\n",
    "        self.left = left\n",
    "        self.right = right\n",
    "\n",
    "    @property\n",
    "    def hash(self) -> str:\n",
    "        return hashlib.md5(self._data.encode(\"utf8\")).hexdigest()\n",
    "    \n",
    "    def clone(self) -> 'Node':\n",
    "        left = self.left.clone() if self.left else None\n",
    "        right = self.right.clone() if self.right else None\n",
    "        return Node(self._data, left, right)\n",
    "\n",
    "    def difference(self, other: 'Node') -> list['Node']:\n",
    "        if self == other:\n",
    "            return []\n",
    "        if not self.left and not self.right:  # leaf\n",
    "            return [self]\n",
    "        if other.left and other.right:\n",
    "            return self.left.difference(other.left) + self.right.difference(other.right)\n",
    "        return [self]\n",
    "    \n",
    "    def __eq__(self, other: 'Node') -> bool:\n",
    "        \"\"\"I just want it here alright.\"\"\"\n",
    "        return self.hash == other.hash\n",
    "    \n",
    "    def __repr__(self, level: int) -> str:\n",
    "        \"\"\"Because why not\"\"\"\n",
    "        this_node_representation = f\"{' ' * level * 34}<{self.hash}>\\n\"\n",
    "        if not self.left and not self.right:\n",
    "            return this_node_representation\n",
    "        # it's not pretty, but we know that if node is not a leaf it has both left and right subtree; let's exploit it\n",
    "        left = self.left.__repr__(level + 1)\n",
    "        right = self.right.__repr__(level + 1)\n",
    "        return left + this_node_representation + right\n",
    "\n",
    "    def __str__(self) -> str:\n",
    "        return self.__repr__(0)\n",
    "\n",
    "\n",
    "class MerkleTree:\n",
    "    \"\"\"\n",
    "    There are a couple of ways I can think of to represent this structure, one of them being a list of nodes like in a heap.\n",
    "    I'll do a classical binary tree.\n",
    "    \"\"\"\n",
    "    def __init__(self, data: list[str]) -> None:\n",
    "        # a couple of points about a number of data points to build a tree from:\n",
    "        # 1. canonically it SHOULD be even to sustain the binary nature of the tree EVEN IT IT'S NOT BALANCED\n",
    "        # 2. tree doesn't have to be balanced because it's not used for search but to ensure cryptographic integrity (Merkle proofs)\n",
    "        # 3. instead of using dummy values to populate odd value, usually the odd data point is duplicated and them combined with itself\n",
    "        # 4. even if there is a possibility that duplicated data may be compared to genuine data that is exactly the same, such scenario is extremely unlikely in a real setting\n",
    "\n",
    "        level_nodes: list[Node] = [Node(dat) for dat in data]\n",
    "        while len(level_nodes) > 1:\n",
    "            if len(level_nodes) % 2 == 1:  # balance it out - it's not the best solution, but it's good enough for this example\n",
    "                level_nodes.append(level_nodes[-1].clone())\n",
    "            next_level_nodes: list[Node] = []\n",
    "            \n",
    "            for left_i, right_i in zip(range(0, len(level_nodes) - 1, 2), range(1, len(level_nodes), 2)):  # the best I can come up with without summoning demons\n",
    "                left, right = level_nodes[left_i], level_nodes[right_i]\n",
    "                next_level_nodes.append(Node(left.hash + right.hash, left, right))\n",
    "            level_nodes = next_level_nodes\n",
    "        self._root = level_nodes[0]\n",
    "    \n",
    "    def difference(self, other: 'MerkleTree') -> list[Node]:\n",
    "        \"\"\"Shows what data chunks are different between 2 trees.\"\"\"\n",
    "        return [node.hash for node in self._root.difference(other._root)]\n",
    "    \n",
    "    def __repr__(self) -> str:\n",
    "        return self._root.__repr__(0)\n"
   ]
  },
  {
   "cell_type": "code",
   "execution_count": 91,
   "metadata": {},
   "outputs": [],
   "source": [
    "m1 = MerkleTree(['1', '2', '7'])\n",
    "m2 = MerkleTree(['1', '2', '6'])"
   ]
  },
  {
   "cell_type": "code",
   "execution_count": 92,
   "metadata": {},
   "outputs": [
    {
     "data": {
      "text/plain": [
       "                                                                    <c4ca4238a0b923820dcc509a6f75849b>\n",
       "                                  <302cbafc0dfbc97f30d576a6f394dad3>\n",
       "                                                                    <c81e728d9d4c2f636f067f89cc14862c>\n",
       "<ee4098ef46a821d2229bb5652a59e62b>\n",
       "                                                                    <8f14e45fceea167a5a36dedd4bea2543>\n",
       "                                  <e1c3878224311a0ce6f28df8a654a7b5>\n",
       "                                                                    <8f14e45fceea167a5a36dedd4bea2543>"
      ]
     },
     "execution_count": 92,
     "metadata": {},
     "output_type": "execute_result"
    }
   ],
   "source": [
    "m1"
   ]
  },
  {
   "cell_type": "code",
   "execution_count": 93,
   "metadata": {},
   "outputs": [
    {
     "data": {
      "text/plain": [
       "                                                                    <c4ca4238a0b923820dcc509a6f75849b>\n",
       "                                  <302cbafc0dfbc97f30d576a6f394dad3>\n",
       "                                                                    <c81e728d9d4c2f636f067f89cc14862c>\n",
       "<18ab82e86a54faf786644c72bc203ea5>\n",
       "                                                                    <1679091c5a880faf6fb5e6087eb1b2dc>\n",
       "                                  <bd5c907b0fcf5d2ffbc516e5dd090276>\n",
       "                                                                    <1679091c5a880faf6fb5e6087eb1b2dc>"
      ]
     },
     "execution_count": 93,
     "metadata": {},
     "output_type": "execute_result"
    }
   ],
   "source": [
    "m2"
   ]
  },
  {
   "cell_type": "code",
   "execution_count": 94,
   "metadata": {},
   "outputs": [
    {
     "data": {
      "text/plain": [
       "['8f14e45fceea167a5a36dedd4bea2543', '8f14e45fceea167a5a36dedd4bea2543']"
      ]
     },
     "execution_count": 94,
     "metadata": {},
     "output_type": "execute_result"
    }
   ],
   "source": [
    "m1.difference(m2)"
   ]
  }
 ],
 "metadata": {
  "kernelspec": {
   "display_name": ".venv",
   "language": "python",
   "name": "python3"
  },
  "language_info": {
   "codemirror_mode": {
    "name": "ipython",
    "version": 3
   },
   "file_extension": ".py",
   "mimetype": "text/x-python",
   "name": "python",
   "nbconvert_exporter": "python",
   "pygments_lexer": "ipython3",
   "version": "3.13.1"
  }
 },
 "nbformat": 4,
 "nbformat_minor": 2
}
