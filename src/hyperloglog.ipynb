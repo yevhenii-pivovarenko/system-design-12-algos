{
 "cells": [
  {
   "cell_type": "code",
   "execution_count": 39,
   "metadata": {},
   "outputs": [],
   "source": [
    "\"\"\"\n",
    "It is an overly simplistic example of a HYPERLOGLOG implementation. All the elements here are not production-ready\n",
    "and serve exclusively for the learning purpose and to explain the basic concept behind the data structure and algorithm.\n",
    "\"\"\"\n",
    "\n",
    "import hashlib\n",
    "from math import log, log2\n",
    "\n",
    "class HyperLogLog:\n",
    "    def __init__(self, size: int = 1024) -> None:\n",
    "        self._registers = [0] * size\n",
    "    \n",
    "    # preparing data for the prediction part\n",
    "\n",
    "    def _hash_function(self, value: str) -> int:\n",
    "        hash_value: str = hashlib.sha256(value.encode(\"utf8\")).hexdigest()\n",
    "        return int(hash_value, 16)\n",
    "\n",
    "    def _leftmost_1_bit_position(self, hash_value: int, start_position: int) -> int:\n",
    "        bin_hash: str = bin(hash_value)[2:]  # the first 2 symbols are '0b'\n",
    "        return bin_hash.find(\"1\", start_position)\n",
    "\n",
    "    def process_element(self, element: str) -> None:\n",
    "        hash_value = self._hash_function(element)\n",
    "        p = int(log2(len(self._registers)))\n",
    "        #\n",
    "        remaining_hash = hash_value >> p  # shift the first 'p' bits\n",
    "        position = self._leftmost_1_bit_position(remaining_hash, p)\n",
    "        register_index = hash_value & (len(self._registers) - 1)  # first 'p' (?) bits\n",
    "        self._registers[register_index] = max(self._registers[register_index], position)\n",
    "        #\n",
    "\n",
    "    # making a prediction part\n",
    "    def _harmonic_mean(self) -> float:\n",
    "        sum_of_inverses = sum(2 ** -reg for reg in self._registers)\n",
    "        return len(self._registers) / sum_of_inverses\n",
    "\n",
    "    def _bias_correction(self, raw_estimate: float) -> float:\n",
    "        m: int = len(self._registers)\n",
    "        if raw_estimate <= 2.5 * m:  # small values correction\n",
    "            v = self._registers.count(0)\n",
    "            if v > 0:\n",
    "                return m * log(m / v)\n",
    "        elif raw_estimate > (2 ** 32) / 30:  # large values correction\n",
    "            return -(2 ** 32) * log(1 - raw_estimate / (2 ** 32))\n",
    "        return raw_estimate\n",
    "\n",
    "    def estimate_cardinality(self) -> float:\n",
    "        alpha_m: float = 0.7213 / (1 + 1.079 / len(self._registers))\n",
    "        raw_estimate = alpha_m * len(self._registers) ** 2 * self._harmonic_mean()\n",
    "        return self._bias_correction(raw_estimate)"
   ]
  },
  {
   "cell_type": "code",
   "execution_count": 55,
   "metadata": {},
   "outputs": [
    {
     "data": {
      "text/plain": [
       "765251.9209149492"
      ]
     },
     "execution_count": 55,
     "metadata": {},
     "output_type": "execute_result"
    }
   ],
   "source": [
    "h = HyperLogLog()\n",
    "elements = ['1', '2', '2', '3', '4', '5', '6', '7', '7', '7', '7', '8', '9', '10', '10', '11', '12', '13']\n",
    "for el in elements:\n",
    "    h.process_element(el)\n",
    "h.estimate_cardinality()"
   ]
  }
 ],
 "metadata": {
  "kernelspec": {
   "display_name": ".venv",
   "language": "python",
   "name": "python3"
  },
  "language_info": {
   "codemirror_mode": {
    "name": "ipython",
    "version": 3
   },
   "file_extension": ".py",
   "mimetype": "text/x-python",
   "name": "python",
   "nbconvert_exporter": "python",
   "pygments_lexer": "ipython3",
   "version": "3.13.1"
  }
 },
 "nbformat": 4,
 "nbformat_minor": 2
}
