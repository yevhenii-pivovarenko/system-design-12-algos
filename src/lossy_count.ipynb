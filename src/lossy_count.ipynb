{
 "cells": [
  {
   "cell_type": "markdown",
   "metadata": {},
   "source": [
    "https://micvog.com/wp-content/uploads/2015/06/approximate_freq_count_over_data_streams_vldb_2002.pdf"
   ]
  },
  {
   "cell_type": "code",
   "execution_count": 8,
   "metadata": {},
   "outputs": [],
   "source": [
    "from math import ceil\n",
    "\n",
    "class LossyCount:\n",
    "    def __init__(self, error: float) -> None:\n",
    "        self._error = error\n",
    "        self._bucket_size: int = ceil(1 / error)\n",
    "        self._processed_total = 0\n",
    "        self._data: dict[int, tuple[int, int]] = {}\n",
    "\n",
    "    def process_element(self, element: int) -> None:\n",
    "        self._processed_total += 1\n",
    "        current_bucket = ceil(self._processed_total / self._bucket_size)\n",
    "\n",
    "        if element in self._data:\n",
    "            frequency, possible_error = self._data[element]\n",
    "            self._data[element] = (frequency + 1, possible_error)\n",
    "        else:\n",
    "            self._data[element] = (1, current_bucket - 1)\n",
    "        \n",
    "        # it's time to prune if we handled bucket size of elements\n",
    "        if self._processed_total % self._bucket_size != 0:\n",
    "            return\n",
    "        for key in list(self._data.keys()):  # due to some dict iterator limitations\n",
    "            frequency, possible_error = self._data[key]            \n",
    "            if frequency + possible_error <= current_bucket:\n",
    "                self._data.pop(key)\n",
    "\n",
    "    def get_frequencies(self, threshold: float) -> list[tuple[int, int]]:\n",
    "        return [\n",
    "            (key, fr) for key, (fr, _) in self._data.items() if fr >= (threshold - self._error) * self._processed_total\n",
    "        ]\n",
    "    \n",
    "    def __repr__(self) -> str:\n",
    "        return str(self._data)"
   ]
  },
  {
   "cell_type": "code",
   "execution_count": 35,
   "metadata": {},
   "outputs": [],
   "source": [
    "from random import randint\n",
    "\n",
    "lc = LossyCount(0.001)\n",
    "\n",
    "for _ in range(10000):\n",
    "    lc.process_element(randint(1, 10))"
   ]
  },
  {
   "cell_type": "code",
   "execution_count": 41,
   "metadata": {},
   "outputs": [
    {
     "data": {
      "text/plain": [
       "[(7, 1003),\n",
       " (4, 975),\n",
       " (2, 1047),\n",
       " (9, 1043),\n",
       " (3, 1018),\n",
       " (10, 978),\n",
       " (6, 1037),\n",
       " (5, 967),\n",
       " (1, 991)]"
      ]
     },
     "execution_count": 41,
     "metadata": {},
     "output_type": "execute_result"
    }
   ],
   "source": [
    "lc.get_frequencies(0.096)"
   ]
  }
 ],
 "metadata": {
  "kernelspec": {
   "display_name": ".venv",
   "language": "python",
   "name": "python3"
  },
  "language_info": {
   "codemirror_mode": {
    "name": "ipython",
    "version": 3
   },
   "file_extension": ".py",
   "mimetype": "text/x-python",
   "name": "python",
   "nbconvert_exporter": "python",
   "pygments_lexer": "ipython3",
   "version": "3.13.1"
  }
 },
 "nbformat": 4,
 "nbformat_minor": 2
}
