{
 "cells": [
  {
   "cell_type": "code",
   "execution_count": 1,
   "metadata": {},
   "outputs": [],
   "source": [
    "import time\n",
    "from uuid import uuid4\n",
    "from random import random\n",
    "\n",
    "class BloomFilter:\n",
    "    \"\"\"This is a naive implementation without any regards for deleting elements.\"\"\"\n",
    "\n",
    "    def __init__(self, size: int) -> None:\n",
    "        self._data = [0] * size * 1000  # this coefficient can vary, see https://hur.st/bloomfilter\n",
    "    \n",
    "    def _get_item_position(self, data: str) -> int:\n",
    "        \"\"\"Applies hash-function to calculate item's place in the internal array.\"\"\"\n",
    "        return hash(data) % len(self._data)\n",
    "\n",
    "    def add(self, data: str) -> None:\n",
    "        self._data[self._get_item_position(data)] = 1\n",
    "    \n",
    "    def exists(self, data: str) -> bool:\n",
    "        \"\"\"\n",
    "        True -> item is possibly(!) in the array; this is due to hash-collisions with other items.\n",
    "        False -> item is DEFINITELY not in the array.\n",
    "        \"\"\"\n",
    "        return self._data[self._get_item_position(data)] == 1"
   ]
  },
  {
   "cell_type": "code",
   "execution_count": 2,
   "metadata": {},
   "outputs": [
    {
     "name": "stdout",
     "output_type": "stream",
     "text": [
      "bloom time: 0.001406948002113495\n",
      "linear time: 0.12742764200083911\n"
     ]
    }
   ],
   "source": [
    "# these tests doesn't make any sense but we have to showcase how it works, right\n",
    "number_of_elements = 10000\n",
    "samples: list[str] = [str(uuid4()) for _ in range(number_of_elements)]\n",
    "bloom = BloomFilter(number_of_elements)\n",
    "test_set: list[str] = []\n",
    "for sample in samples:\n",
    "    bloom.add(sample)\n",
    "    if random() < 0.1:\n",
    "        test_set.append(sample)\n",
    "        test_set.append(str(uuid4()))\n",
    "\n",
    "bloom_start = time.perf_counter()\n",
    "bloom_answers: list[bool] = []\n",
    "for sample in test_set:\n",
    "    if not bloom.exists(sample):\n",
    "        bloom_answers.append(1)\n",
    "bloom_end = time.perf_counter()\n",
    "\n",
    "linear_start = time.perf_counter()\n",
    "linear_answers: list[bool] = []\n",
    "for sample in test_set:\n",
    "    if not sample in samples:\n",
    "        linear_answers.append(1)\n",
    "linear_end = time.perf_counter()\n",
    "\n",
    "assert bloom_answers == linear_answers  # to check if data matches\n",
    "\n",
    "print(f\"bloom time: {bloom_end - bloom_start}\")\n",
    "print(f\"linear time: {linear_end - linear_start}\")"
   ]
  }
 ],
 "metadata": {
  "kernelspec": {
   "display_name": ".venv",
   "language": "python",
   "name": "python3"
  },
  "language_info": {
   "codemirror_mode": {
    "name": "ipython",
    "version": 3
   },
   "file_extension": ".py",
   "mimetype": "text/x-python",
   "name": "python",
   "nbconvert_exporter": "python",
   "pygments_lexer": "ipython3",
   "version": "3.13.1"
  }
 },
 "nbformat": 4,
 "nbformat_minor": 2
}
